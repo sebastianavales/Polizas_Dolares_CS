{
 "cells": [
  {
   "cell_type": "code",
   "execution_count": 1,
   "metadata": {},
   "outputs": [],
   "source": [
    "import pandas as pd\n",
    "import os\n",
    "from datetime import datetime\n",
    "import logging\n",
    "from typing import Dict\n",
    "from typing import Dict"
   ]
  },
  {
   "cell_type": "code",
   "execution_count": 121,
   "metadata": {},
   "outputs": [],
   "source": [
    "# Diccionario para los tipos de la data\n",
    "dict_ColumnsTypes_data = {\"Referencia\":\"str\",\n",
    "                          \"Asignación\":\"str\",\n",
    "                          \"Soc.\":\"str\",\n",
    "                          \"Acreedor\":\"str\",\n",
    "                          \"Clave ref.1\":\"str\",\n",
    "                          \"Clave ref.2\":\"str\",\n",
    "                          \"Cuenta\":\"str\",\n",
    "                          \"Clave referencia 3\":\"str\",\n",
    "                          \"Período\":\"str\",\n",
    "                          \"Período\":\"str\",\n",
    "                          \"Cl.coste\":\"str\",\n",
    "                          \"CeBe\":\"str\",\n",
    "                          \"CeBe int.\":\"str\",\n",
    "                          \"Div.\":\"str\",\n",
    "                          \"NIT\":\"str\",\n",
    "                          \"Deudor\":\"str\",\n",
    "                          \"Lib.mayor\":\"str\",\n",
    "                          \"Cta.mayor\":\"str\",\n",
    "                          \"VP\":\"str\",\n",
    "                          \"Fec.Expedi\":\"str\",\n",
    "                          \"Fecha doc.\":\"str\",\n",
    "                          \"Fe.contab.\":\"str\",\n",
    "                          \"ML2\":\"str\",\n",
    "                          \"Importe\":\"str\",\n",
    "                          \"ImpteML2\":\"str\",\n",
    "                          \"Importe en ML3\":\"str\",\n",
    "                          \"Tp.camb.ef.\":\"str\",\n",
    "                          \"MonPa\":\"str\",\n",
    "                          \"Compens.\":\"str\",\n",
    "                          \"Fe.valor\":\"str\",\n",
    "                          \"Fecha pago\":\"str\",\n",
    "                          \"Registrado\":\"str\"}\n",
    "\n",
    "dict_ColumnsTypes_cabecera = {\"Referencia\":\"str\",\n",
    "                              \"Texto cab.documento\":\"str\",\n",
    "                              \"Anul.con\":\"str\",\n",
    "                              \"Tipo cambio\":\"str\"}"
   ]
  },
  {
   "cell_type": "code",
   "execution_count": 199,
   "metadata": {},
   "outputs": [],
   "source": [
    "archivo_input = \"01.Input\\Detalle.xlsx\"\n",
    "archivo_cabecera = \"01.Input\\Cabecera.xlsx\"\n",
    "df_importado = pd.read_excel(archivo_input, dtype=dict_ColumnsTypes_data)\n",
    "df_cabecera = pd.read_excel(archivo_cabecera, dtype=dict_ColumnsTypes_cabecera)"
   ]
  },
  {
   "cell_type": "code",
   "execution_count": 200,
   "metadata": {},
   "outputs": [],
   "source": [
    "# Cruce de df_importado con df_cabecera\n",
    "df_importado = df_importado.merge(df_cabecera, on='Referencia', how='left')"
   ]
  },
  {
   "cell_type": "code",
   "execution_count": 201,
   "metadata": {},
   "outputs": [],
   "source": [
    "# Transformaciones previas a la validación\n",
    "df_importado['Referencia_temp'] = df_importado['Referencia'].apply(lambda x: x[:-1] if x.endswith('I') else x)\n",
    "df_importado['Tipo cambio'] = df_importado['Tipo cambio'].apply(lambda x: round(float(f\"{x.replace('.', '').replace(',', '')[:-5]}.{x.replace('.', '').replace(',', '')[-5:]}\"), 2))"
   ]
  },
  {
   "cell_type": "code",
   "execution_count": 202,
   "metadata": {},
   "outputs": [],
   "source": [
    "# Validar referencias que tienen producción e IVA calculado con diferente TRM\n",
    "trm_unicas = df_importado.groupby('Referencia_temp').agg(TRM_Unicas=('Tipo cambio', 'nunique')).reset_index()\n",
    "\n",
    "# Filtrar solo registros de IVA para asignar la tasa correcta\n",
    "trm_iva = df_importado.loc[df_importado['Referencia'].str.endswith('I')].drop_duplicates(subset=['Referencia'])[['Referencia_temp','Tipo cambio']]\n",
    "trm_iva = trm_iva.rename(columns={'Tipo cambio': 'Tasa_Correcta'})"
   ]
  },
  {
   "cell_type": "code",
   "execution_count": 203,
   "metadata": {},
   "outputs": [],
   "source": [
    "# Cruce de df_importado con trm_unicas para llevar la columna TRM_Unicas a la BD principal\n",
    "df_importado = df_importado.merge(trm_unicas, on='Referencia_temp', how='left')\n",
    "\n",
    "# Cruce de df_importado con trm_iva para asignar la tasa correcta\n",
    "df_importado = df_importado.merge(trm_iva, on='Referencia_temp', how='left')\n",
    "\n",
    "# Corregir columna Tasa_Correcta cuando la referencia no tenga IVA\n",
    "df_importado['Tasa_Correcta'] = df_importado.apply(lambda x: x['Tipo cambio'] if pd.isna(x['Tasa_Correcta']) else x['Tasa_Correcta'], axis=1)"
   ]
  },
  {
   "cell_type": "code",
   "execution_count": 204,
   "metadata": {},
   "outputs": [],
   "source": [
    "# Filtrar aquellas referencias que tienen TRM diferentes\n",
    "df_depurado = df_importado.loc[df_importado['TRM_Unicas'] != 1]\n",
    "df_depurado = df_importado\n",
    "df_depurado = df_depurado.sort_values(by=['Referencia', 'Lib.mayor'])"
   ]
  },
  {
   "cell_type": "code",
   "execution_count": 205,
   "metadata": {},
   "outputs": [],
   "source": [
    "df_depurado.to_excel('Prueba.xlsx', index=False)"
   ]
  }
 ],
 "metadata": {
  "kernelspec": {
   "display_name": "venv",
   "language": "python",
   "name": "python3"
  },
  "language_info": {
   "codemirror_mode": {
    "name": "ipython",
    "version": 3
   },
   "file_extension": ".py",
   "mimetype": "text/x-python",
   "name": "python",
   "nbconvert_exporter": "python",
   "pygments_lexer": "ipython3",
   "version": "3.11.3"
  }
 },
 "nbformat": 4,
 "nbformat_minor": 2
}
